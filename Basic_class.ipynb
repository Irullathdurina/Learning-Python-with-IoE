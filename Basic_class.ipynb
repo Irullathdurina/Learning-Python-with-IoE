{
 "cells": [
  {
   "cell_type": "code",
   "execution_count": null,
   "metadata": {},
   "outputs": [],
   "source": [
    "\"hi this is anirudh 56+90\""
   ]
  },
  {
   "cell_type": "code",
   "execution_count": null,
   "metadata": {},
   "outputs": [],
   "source": []
  },
  {
   "cell_type": "code",
   "execution_count": null,
   "metadata": {},
   "outputs": [],
   "source": [
    "print(\" hi this is anirudh, 65/9\")"
   ]
  },
  {
   "cell_type": "code",
   "execution_count": null,
   "metadata": {},
   "outputs": [],
   "source": [
    "print(\" hi this is anirudh\", 65*9)"
   ]
  },
  {
   "cell_type": "code",
   "execution_count": null,
   "metadata": {},
   "outputs": [],
   "source": [
    "896666678/8523698741/52365412*2365898741-322225898741+3214785269"
   ]
  },
  {
   "cell_type": "code",
   "execution_count": null,
   "metadata": {},
   "outputs": [],
   "source": [
    "67*3-56/23*34+12.45"
   ]
  },
  {
   "cell_type": "code",
   "execution_count": null,
   "metadata": {},
   "outputs": [],
   "source": [
    "56/23"
   ]
  },
  {
   "cell_type": "code",
   "execution_count": null,
   "metadata": {},
   "outputs": [],
   "source": [
    "printf(\"Oh No\");"
   ]
  },
  {
   "cell_type": "code",
   "execution_count": null,
   "metadata": {},
   "outputs": [],
   "source": [
    "print(\"understand\");"
   ]
  },
  {
   "cell_type": "code",
   "execution_count": null,
   "metadata": {},
   "outputs": [],
   "source": [
    "A+89"
   ]
  },
  {
   "cell_type": "code",
   "execution_count": null,
   "metadata": {},
   "outputs": [],
   "source": [
    "67+89+55+90.87/23*67"
   ]
  },
  {
   "cell_type": "code",
   "execution_count": null,
   "metadata": {},
   "outputs": [],
   "source": [
    "(2+2)/3"
   ]
  },
  {
   "cell_type": "code",
   "execution_count": null,
   "metadata": {},
   "outputs": [],
   "source": [
    "I am a comment, this might give error find it and answer it now print(“WOW”)"
   ]
  },
  {
   "cell_type": "code",
   "execution_count": null,
   "metadata": {},
   "outputs": [],
   "source": [
    "username = input(\"Enter username:\")\n",
    "print(\"Username is: \" + username)\n"
   ]
  },
  {
   "cell_type": "code",
   "execution_count": null,
   "metadata": {},
   "outputs": [],
   "source": [
    "name = input (\"Name\")\n",
    "age = input (\"Age\")\n",
    "marks = input(\"Marks\")\n",
    "print(\"Result is: \" +name , age , marks)\n"
   ]
  },
  {
   "cell_type": "code",
   "execution_count": null,
   "metadata": {},
   "outputs": [],
   "source": [
    "print(10*5)"
   ]
  },
  {
   "cell_type": "code",
   "execution_count": null,
   "metadata": {},
   "outputs": [],
   "source": [
    "x = 17.5\n",
    "print(type(x))"
   ]
  },
  {
   "cell_type": "code",
   "execution_count": null,
   "metadata": {},
   "outputs": [],
   "source": [
    "x = \"class\"\n",
    "print(type(x))"
   ]
  },
  {
   "cell_type": "code",
   "execution_count": null,
   "metadata": {},
   "outputs": [],
   "source": [
    "(3+4+5+6+7/5)/100"
   ]
  },
  {
   "cell_type": "code",
   "execution_count": 5,
   "metadata": {},
   "outputs": [
    {
     "name": "stdout",
     "output_type": "stream",
     "text": [
      "10\n",
      "10000\n"
     ]
    }
   ],
   "source": [
    "#Convert Km to m\n",
    "km = int(input())\n",
    "conv_r = int(1000)\n",
    "meter = int(km*conv_r)\n",
    "print(meter)"
   ]
  },
  {
   "cell_type": "code",
   "execution_count": null,
   "metadata": {},
   "outputs": [],
   "source": [
    "#Area of a triangle \n",
    "b= float(input(\"Enter base measurements:\"))\n",
    "h= float(input(\"Enter height measurements:\"))\n",
    "areaoftri = 0.5*b*h\n",
    "print(areaoftri)\n"
   ]
  },
  {
   "cell_type": "code",
   "execution_count": 2,
   "metadata": {},
   "outputs": [
    {
     "name": "stdout",
     "output_type": "stream",
     "text": [
      "Enter Side Measurement:5\n",
      "25\n"
     ]
    }
   ],
   "source": [
    "#Area of Square\n",
    "s= int(input(\"Enter Side Measurement:\"))\n",
    "areaofsqr = s*s\n",
    "print(areaofsqr)\n"
   ]
  },
  {
   "cell_type": "code",
   "execution_count": 4,
   "metadata": {},
   "outputs": [
    {
     "name": "stdout",
     "output_type": "stream",
     "text": [
      "Enter Length:5\n",
      "Enter Breadth:5\n",
      "25\n"
     ]
    }
   ],
   "source": [
    "#Area of Rectangle\n",
    "l=int(input(\"Enter Length:\"))\n",
    "b=int(input(\"Enter Breadth:\"))\n",
    "areaofrec = l*b\n",
    "print(areaofrec)"
   ]
  },
  {
   "cell_type": "code",
   "execution_count": 9,
   "metadata": {},
   "outputs": [
    {
     "name": "stdout",
     "output_type": "stream",
     "text": [
      "Enter Radius value:5\n",
      "78.57142857142857\n"
     ]
    }
   ],
   "source": [
    "#Area of a Circle\n",
    "r= float(input(\"Enter Radius value:\"))\n",
    "pi = float(22/7)\n",
    "areaofcirc= float(pi*r*r)\n",
    "print(areaofcirc)\n"
   ]
  },
  {
   "cell_type": "code",
   "execution_count": 22,
   "metadata": {},
   "outputs": [
    {
     "name": "stdout",
     "output_type": "stream",
     "text": [
      "Enter Celcius value:15\n",
      "59.0\n"
     ]
    }
   ],
   "source": [
    "#Convert Celcius to Fahrenheit\n",
    "deg_C= float((input(\"Enter Celcius value:\")))\n",
    "deg_F = float(deg_C*9/5+32)\n",
    "print(deg_F)"
   ]
  },
  {
   "cell_type": "code",
   "execution_count": 23,
   "metadata": {},
   "outputs": [
    {
     "name": "stdout",
     "output_type": "stream",
     "text": [
      "Enter principal amount:500\n",
      "Enter Annual Interest Rate:2\n",
      "Enter No. of Years:1\n",
      "The Simple Interest is: 1000.0\n"
     ]
    }
   ],
   "source": [
    "#Simple Interest\n",
    "p= float(input(\"Enter principal amount:\"))\n",
    "r= float(input(\"Enter Annual Interest Rate:\"))\n",
    "n= float(input(\"Enter No. of Years:\"))\n",
    "i= p*n*r\n",
    "print(\"The Simple Interest is:\",i)\n"
   ]
  },
  {
   "cell_type": "code",
   "execution_count": 33,
   "metadata": {},
   "outputs": [
    {
     "name": "stdout",
     "output_type": "stream",
     "text": [
      "Enter principal amount:500\n",
      "Enter Interest rate:2\n",
      "Enter no. of times the interest is compounded:1\n",
      "Enter the time period:1\n",
      "The Compounded Amount is: 1500.0\n"
     ]
    }
   ],
   "source": [
    "#Compound Interest\n",
    "p= float(input(\"Enter principal amount:\"))\n",
    "r= float(input(\"Enter Interest rate:\"))\n",
    "n= float(input(\"Enter no. of times the interest is compounded:\"))\n",
    "t= float(input(\"Enter the time period:\"))\n",
    "nr= float(1+(r/n))\n",
    "nt= float(n*t)\n",
    "a= float(p*(nr**(nt)))\n",
    "print(\"The Compounded Amount is:\",a)"
   ]
  },
  {
   "cell_type": "code",
   "execution_count": 6,
   "metadata": {},
   "outputs": [
    {
     "name": "stdout",
     "output_type": "stream",
     "text": [
      "<class 'str'>\n"
     ]
    }
   ],
   "source": [
    "a = 20\n",
    "b = str(a)\n",
    "print(type(b))"
   ]
  },
  {
   "cell_type": "code",
   "execution_count": 13,
   "metadata": {},
   "outputs": [
    {
     "name": "stdout",
     "output_type": "stream",
     "text": [
      "['ani', 'anirudh', 'talluri', 'tall', 'antal', 'amir'] [25, 26, 27, 28, 29, 30, 11]\n",
      "talluri 27\n"
     ]
    }
   ],
   "source": [
    "name=[\"ani\",\"anirudh\",\"talluri\",\"tall\",\"antal\"]\n",
    "age=[25,26,27,28,29,30]\n",
    "name.append ( \"amir\" )\n",
    "age.append (11)\n",
    "print(name,age)\n",
    "print(name[2],age[2])\n"
   ]
  }
 ],
 "metadata": {
  "kernelspec": {
   "display_name": "Python 3",
   "language": "python",
   "name": "python3"
  },
  "language_info": {
   "codemirror_mode": {
    "name": "ipython",
    "version": 3
   },
   "file_extension": ".py",
   "mimetype": "text/x-python",
   "name": "python",
   "nbconvert_exporter": "python",
   "pygments_lexer": "ipython3",
   "version": "3.7.4"
  }
 },
 "nbformat": 4,
 "nbformat_minor": 2
}
